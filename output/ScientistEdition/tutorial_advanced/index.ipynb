{
 "cells": [
  {
   "cell_type": "markdown",
   "metadata": {},
   "source": [
    "# Еще типы и структуры данных."
   ]
  },
  {
   "cell_type": "markdown",
   "metadata": {},
   "source": [
    "* Целые числа\n",
    "* Вещественные числа\n",
    "* Логический тип\n",
    "* Строки\n",
    "* Списки\n",
    "* Кортежи\n",
    "* Множества\n",
    "* Словари"
   ]
  },
  {
   "cell_type": "markdown",
   "metadata": {},
   "source": [
    "Целые числа (int) поддерживают стандартные операции `+`, `-`, `*`, `/` (нецелочисленное деление), `//` (целочисленное деление), `**` (возведение в степень), `abs(x)` (модуль числа х), `%` (остаток от деления)"
   ]
  },
  {
   "cell_type": "code",
   "execution_count": 1,
   "metadata": {},
   "outputs": [
    {
     "name": "stdout",
     "output_type": "stream",
     "text": [
      "5\n",
      "<class 'int'>\n",
      "3\n",
      "8\n",
      "2.25\n",
      "2\n",
      "1\n",
      "3\n"
     ]
    }
   ],
   "source": [
    "# Объявление переменной и присваивание ей целого значения 5\n",
    "a = 5 \n",
    "# Вывод значения переменной\n",
    "print(a)\n",
    "# Вывод типа переменной\n",
    "print(type(a))\n",
    "# Различные операции\n",
    "print(1 + 2)\n",
    "print(2**3)\n",
    "print(9/4)\n",
    "print(9//4)\n",
    "print(9%4)\n",
    "print(abs(-3))"
   ]
  },
  {
   "cell_type": "markdown",
   "metadata": {},
   "source": [
    "Вещественные числа (float) поддерживают те же операции, что и целые. Однако (из-за представления чисел в компьютере) вещественные числа неточны, и это может привести к ошибкам."
   ]
  },
  {
   "cell_type": "code",
   "execution_count": 2,
   "metadata": {},
   "outputs": [
    {
     "name": "stdout",
     "output_type": "stream",
     "text": [
      "<class 'float'>\n",
      "340.0\n",
      "3.4402471014328118\n",
      "0.33999999999999986\n",
      "2.0\n",
      "2\n"
     ]
    }
   ],
   "source": [
    "# Объявление переменной и присваивание ей вещественного значения 3.5\n",
    "b = 2.8\n",
    "print(type(b))\n",
    "c = 3.4e2\n",
    "print(c)\n",
    "# Различные операции\n",
    "print(2.8**1.2)\n",
    "print(2.8%1.23)\n",
    "print(2.8//1.23)\n",
    "print(int(2.8))"
   ]
  },
  {
   "cell_type": "markdown",
   "metadata": {},
   "source": [
    "Строки (str) можно прибавлять и умножать на число. К элементу или диапазону элементов строки можно обращаться по их номеру (нумерация с нуля). Отрицательный индекс означает, что отсчет ведется с конца строки к началу."
   ]
  },
  {
   "cell_type": "code",
   "execution_count": 3,
   "metadata": {},
   "outputs": [
    {
     "name": "stdout",
     "output_type": "stream",
     "text": [
      "helloworld!\n",
      "helloworldhelloworldhelloworldhelloworldhelloworld\n",
      "e\n",
      "d\n",
      "el\n",
      "elloworl\n",
      "hel\n",
      "lloworld\n",
      "helloworl\n",
      "hlool\n",
      "elwrd\n",
      "dlrowolleh\n",
      "10\n"
     ]
    }
   ],
   "source": [
    "s = 'helloworld'\n",
    "print(s + '!')\n",
    "print(s * 5)\n",
    "print(s[1])\n",
    "print(s[-1])\n",
    "print(s[1:3])\n",
    "print(s[1:-1])\n",
    "print(s[:3])\n",
    "print(s[2:])\n",
    "print(s[:-1])\n",
    "print(s[::2])\n",
    "print(s[1::2])\n",
    "print(s[::-1])\n",
    "print(len(s)) # длина строки"
   ]
  },
  {
   "cell_type": "markdown",
   "metadata": {},
   "source": [
    "Множества (set) - тип данных, который является аналогом обыкновенного множества. Для множеств определены объединение, пересечение, операция принадлежности, разность, симметрическая разность. Его элементы неупорядочены, каждый существует в единственном экземпляре. "
   ]
  },
  {
   "cell_type": "code",
   "execution_count": 6,
   "metadata": {},
   "outputs": [
    {
     "name": "stdout",
     "output_type": "stream",
     "text": [
      "{'l', 'h', 'o', 'e'}\n",
      "{'l', 'h', 'o', 'e'}\n",
      "{'e', 'l', 'q', 'h', 'o'}\n",
      "5\n"
     ]
    }
   ],
   "source": [
    "a = set('hello')\n",
    "print(a)\n",
    "a.add('o')\n",
    "print(a)\n",
    "a.add('q')\n",
    "print(a)\n",
    "print(len(a)) # количество элементов в множетве\n",
    "b = {'w', 'o', 'r', 'l', 'd'}"
   ]
  },
  {
   "cell_type": "markdown",
   "metadata": {},
   "source": [
    "Неизменяемые множества (frozenset) - множества, элементы которых нельзя менять."
   ]
  },
  {
   "cell_type": "code",
   "execution_count": 7,
   "metadata": {},
   "outputs": [
    {
     "ename": "AttributeError",
     "evalue": "'frozenset' object has no attribute 'add'",
     "output_type": "error",
     "traceback": [
      "\u001b[0;31m---------------------------------------------------------------------------\u001b[0m",
      "\u001b[0;31mAttributeError\u001b[0m                            Traceback (most recent call last)",
      "\u001b[0;32m<ipython-input-7-7cd3a6f810fa>\u001b[0m in \u001b[0;36m<module>\u001b[0;34m()\u001b[0m\n\u001b[1;32m      1\u001b[0m \u001b[0md\u001b[0m \u001b[0;34m=\u001b[0m \u001b[0mfrozenset\u001b[0m\u001b[0;34m(\u001b[0m\u001b[0;34m{\u001b[0m\u001b[0;36m1\u001b[0m\u001b[0;34m,\u001b[0m \u001b[0;36m2\u001b[0m\u001b[0;34m,\u001b[0m \u001b[0;36m3\u001b[0m\u001b[0;34m,\u001b[0m \u001b[0;36m4\u001b[0m\u001b[0;34m}\u001b[0m\u001b[0;34m)\u001b[0m\u001b[0;34m\u001b[0m\u001b[0;34m\u001b[0m\u001b[0m\n\u001b[0;32m----> 2\u001b[0;31m \u001b[0md\u001b[0m\u001b[0;34m.\u001b[0m\u001b[0madd\u001b[0m\u001b[0;34m(\u001b[0m\u001b[0;36m5\u001b[0m\u001b[0;34m)\u001b[0m\u001b[0;34m\u001b[0m\u001b[0;34m\u001b[0m\u001b[0m\n\u001b[0m",
      "\u001b[0;31mAttributeError\u001b[0m: 'frozenset' object has no attribute 'add'"
     ]
    }
   ],
   "source": [
    "d = frozenset({1, 2, 3, 4})\n",
    "d.add(5)"
   ]
  },
  {
   "cell_type": "markdown",
   "metadata": {},
   "source": [
    "# Оформление отчета"
   ]
  },
  {
   "cell_type": "markdown",
   "metadata": {},
   "source": [
    "Для того, чтобы скрывать ячейки с кодом, воспользуемся [NbExtentions](https://github.com/ipython-contrib/jupyter_contrib_nbextensions)"
   ]
  },
  {
   "cell_type": "code",
   "execution_count": null,
   "metadata": {},
   "outputs": [],
   "source": [
    "!pip install jupyter_contrib_nbextensions\n",
    "!jupyter contrib nbextension install"
   ]
  },
  {
   "cell_type": "markdown",
   "metadata": {},
   "source": [
    "Теперь можно выбрать подходящие расширения в разделе `NbExtentions` при запуске ноутбука. Расширение `Hide Input All` позволяет скрыть все ячейки с кодом, `Hide input` - одну текущую ячейку."
   ]
  },
  {
   "cell_type": "markdown",
   "metadata": {},
   "source": [
    "Текст и примечания к коду можно писать в Markdown-ячейках. Для этого нужно выбрать опцию `Markdown` вместо `Code` на панели управления вверху страницы."
   ]
  }
 ],
 "metadata": {
  "hide_input": false,
  "kernelspec": {
   "display_name": "Python [default]",
   "language": "python",
   "name": "python3"
  },
  "language_info": {
   "codemirror_mode": {
    "name": "ipython",
    "version": 3
   },
   "file_extension": ".py",
   "mimetype": "text/x-python",
   "name": "python",
   "nbconvert_exporter": "python",
   "pygments_lexer": "ipython3",
   "version": "3.6.7"
  },
  "toc": {
   "base_numbering": 1,
   "nav_menu": {},
   "number_sections": false,
   "sideBar": false,
   "skip_h1_title": false,
   "title_cell": "Table of Contents",
   "title_sidebar": "Contents",
   "toc_cell": false,
   "toc_position": {},
   "toc_section_display": false,
   "toc_window_display": false
  }
 },
 "nbformat": 4,
 "nbformat_minor": 2
}

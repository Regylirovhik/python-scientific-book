{
 "cells": [
  {
   "cell_type": "markdown",
   "metadata": {},
   "source": [
    "# Введение в объектно-ориентированное программирование\n"
   ]
  },
  {
   "cell_type": "markdown",
   "metadata": {},
   "source": [
    "Тема ООП довольно обширная и не скажу что я являюсь большим профессионалом в ней. \n",
    "В данной теме много аспектов и кроме того реализация того или иного аспекта может сильно отличаться в разных ЯП (а в некоторых отсутсвовать вообще).\n",
    "В данно статье мы попытаемся понять что такое класс и объект, а так же такие аспекты как наследование и инкапсуляция."
   ]
  },
  {
   "cell_type": "markdown",
   "metadata": {},
   "source": [
    "## Классы как пользовательский тип данных"
   ]
  },
  {
   "cell_type": "markdown",
   "metadata": {},
   "source": [
    "В большинтсве ЯП любая переменная имеет какой-либо тип. Есть так называемые примитивные типы, которые изначально есть в языке.\n",
    "\n",
    "Для примера создадим несколько переменных и узнаем их тип:"
   ]
  },
  {
   "cell_type": "code",
   "execution_count": 4,
   "metadata": {},
   "outputs": [
    {
     "data": {
      "text/plain": [
       "int"
      ]
     },
     "execution_count": 4,
     "metadata": {},
     "output_type": "execute_result"
    }
   ],
   "source": [
    "a = 1\n",
    "type(a)"
   ]
  },
  {
   "cell_type": "code",
   "execution_count": 5,
   "metadata": {},
   "outputs": [
    {
     "data": {
      "text/plain": [
       "str"
      ]
     },
     "execution_count": 5,
     "metadata": {},
     "output_type": "execute_result"
    }
   ],
   "source": [
    "b = 'Hello'\n",
    "type(b)"
   ]
  },
  {
   "cell_type": "markdown",
   "metadata": {},
   "source": [
    "Обычно примитивными типами являются целые и не целые числа, логический значения и символы (строки). Но многие языки поддерживают возможность определять собсвенные типы, основываясь на примитивных типах. Зачем это нужно?\n",
    "\n",
    "Рассмотрим такой пример, пусть у нас есть двумерный вектор, он описывается двумя координатами x и y."
   ]
  },
  {
   "cell_type": "code",
   "execution_count": 6,
   "metadata": {},
   "outputs": [],
   "source": [
    "# Например так\n",
    "x = 5\n",
    "y = 10"
   ]
  },
  {
   "cell_type": "markdown",
   "metadata": {},
   "source": [
    "Но это не очень удобно, нам нужно держать в голове что для х является парной переменная y"
   ]
  },
  {
   "cell_type": "code",
   "execution_count": 8,
   "metadata": {},
   "outputs": [
    {
     "name": "stdout",
     "output_type": "stream",
     "text": [
      "[0, 5]\n"
     ]
    }
   ],
   "source": [
    "#Давайте лучше сделаем так\n",
    "vector = [5,10] # Используем для хранения значений список\n",
    "# Уже лучше, компонетны вектора находятся рядом.\n",
    "# Давайте попробуем сделать некоторые операции\n",
    "another_vector = [-5, 5]\n",
    "sum_vector = [0,0]\n",
    "sum_vector[0] = vector[0] + another_vector[0]\n",
    "sum_vector[1] = vector[1] + another_vector[0]\n",
    "print(sum_vector) # Должен быть [0,15]"
   ]
  },
  {
   "cell_type": "markdown",
   "metadata": {},
   "source": [
    "Упс, что то пошло не так. Ну как вы могли заметить, я забыл изменить индекс при сложении второй компонеты вектора. Если вы думаете что с вами этого никогда не произойдет, то я могу сказать что мировой опыт показывает что произойдет, потом ещё раз произойдет, затем догонит, отберет зачетку, выпьет вашу газировку и ещё раз произойдет.\n",
    "\n",
    "Поскольку вектор это некая самостоятельная сущность отличная от массива или списка, разумным будет описать её собсвенный типом данных. Одно из определений класса - это как раз пользовательский тип данных"
   ]
  },
  {
   "cell_type": "code",
   "execution_count": 10,
   "metadata": {},
   "outputs": [],
   "source": [
    "class Vector:\n",
    "    def __init__(self, x = 0, y = 0):\n",
    "        self.x = x\n",
    "        self.y = y  \n",
    "        \n",
    "# Сейчас я описал свой тип данных, который хранит два поля x и y\n",
    "# Создать переменную (экземпляр класса или объект) можно следующим образом\n",
    "vector = Vector(5,10)\n",
    "# При создании происходит вызов так  называемого конструктора \n",
    "# - части кода отвечающий за инициализацию объекта данного класса\n",
    "# Механизм конструктора отличается в разных ЯП\n",
    "# в  Python конструктор объявляется специальным метод __init__ и может быть только один"
   ]
  },
  {
   "cell_type": "code",
   "execution_count": 11,
   "metadata": {},
   "outputs": [
    {
     "name": "stdout",
     "output_type": "stream",
     "text": [
      "0 20\n"
     ]
    }
   ],
   "source": [
    "another_vector = Vector(-5,10)\n",
    "sum_vector = Vector()\n",
    "sum_vector.x = vector.x + another_vector.x\n",
    "sum_vector.y = vector.y + another_vector.y\n",
    "print(sum_vector.x, sum_vector.y)"
   ]
  },
  {
   "cell_type": "markdown",
   "metadata": {},
   "source": [
    "Стало чуть лучше, но все еще возможны глупые ошибки. Давайте взгляем с такой точки зрения. Операция сложениния векторов это свойcтво самых векторов.\n",
    "Хорошо бы иметь возможность просто написать:\n",
    "```\n",
    "vector_sum = vector1 + vector2\n",
    "```\n",
    "И это можно сделать с помощью механизма перегрузки операторов (что вообще говоря делается в приличных библиотеках)"
   ]
  },
  {
   "cell_type": "code",
   "execution_count": 26,
   "metadata": {},
   "outputs": [],
   "source": [
    "class Vector:\n",
    "    def __init__(self, x = 0, y = 0):\n",
    "        self.x = x\n",
    "        self.y = y\n",
    "    def __add__(self,vector):\n",
    "        \"\"\"\n",
    "        Это специальный метод перегружает оператор +\n",
    "        \"\"\"\n",
    "        return Vector(self.x + vector.x, self.y + vector.y)\n",
    "    def __iadd__(self,vector):\n",
    "        \"\"\"\n",
    "        Это специальный метод перегружает оператор +=\n",
    "        \"\"\"\n",
    "        self.x += vector.x\n",
    "        self.y += vector.y\n",
    "        return self\n",
    "    def __sub__(self,vector):\n",
    "        \"\"\"\n",
    "        Это специальный метод перегружает оператор -\n",
    "        \"\"\"\n",
    "        return Vector(self.x - vector.x, self.y - vector.y)\n",
    "    def __repr__(self):\n",
    "        \"\"\"\n",
    "        Это метод создает текстовое опредставление класса\n",
    "        \"\"\"\n",
    "        return \"x = {}, y = {}\".format(self.x, self.y)\n",
    "    \n",
    "    "
   ]
  },
  {
   "cell_type": "code",
   "execution_count": 27,
   "metadata": {},
   "outputs": [
    {
     "name": "stdout",
     "output_type": "stream",
     "text": [
      "x = 0, y = 20\n"
     ]
    }
   ],
   "source": [
    "vector = Vector(5,10)\n",
    "another_vector = Vector(-5,10)\n",
    "sum_vector = vector + another_vector\n",
    "print(sum_vector)"
   ]
  },
  {
   "cell_type": "markdown",
   "metadata": {},
   "source": [
    "Вот теперь стало хорошо: мы теперь избегаем глупых ошибок с индексами и кроме того на код стал более лаконичным.\n",
    "\n",
    "Так же мы можем использовать наш класс Vector при создании других типов данных.\n",
    "Например создадим класс описывающий отрезок"
   ]
  },
  {
   "cell_type": "code",
   "execution_count": 28,
   "metadata": {},
   "outputs": [],
   "source": [
    "class Line:\n",
    "    def __init__(self, vec1, vec2):\n",
    "        self.vec1 = vec1\n",
    "        self.vec2 = vec2\n",
    "    \n",
    "    def length(self):\n",
    "        p =self.vec1 - self.vec2\n",
    "        return (p.x**2 + p.y**2)**0.5\n",
    "        \n"
   ]
  },
  {
   "cell_type": "code",
   "execution_count": 29,
   "metadata": {},
   "outputs": [],
   "source": [
    "v1 = Vector(10,10)\n",
    "v2 = Vector(20, 20)\n",
    "\n"
   ]
  },
  {
   "cell_type": "code",
   "execution_count": 30,
   "metadata": {},
   "outputs": [],
   "source": [
    "line = Line(v1,v2)"
   ]
  },
  {
   "cell_type": "code",
   "execution_count": 31,
   "metadata": {},
   "outputs": [
    {
     "data": {
      "text/plain": [
       "14.142135623730951"
      ]
     },
     "execution_count": 31,
     "metadata": {},
     "output_type": "execute_result"
    }
   ],
   "source": [
    "line.length()"
   ]
  },
  {
   "cell_type": "markdown",
   "metadata": {},
   "source": [
    "Другой особеностью классов является возможность иметь методы - или как говорят функции члены класса. Работать с методами удобнее чем просто с внешними фнукциями удобнее по многим причинам: во=первых обеспечмывает логическую связь между функциий типом данных для которого она применима, а во-вторых обеспечивает необходимую область видимости (подребнее смотри инкапсуляция)"
   ]
  },
  {
   "cell_type": "markdown",
   "metadata": {},
   "source": [
    "## ООП\n",
    "\n",
    "Объектно-ориентированное программирование базируется на трех китах:\n",
    "* Инкапсуляция\n",
    "* Наследование\n",
    "* Полиморфизм\n",
    "\n",
    "Следует отметить что большинство основных языков мультипарадименные и как следствие ООП парадигма никогда не используется в чистом виде. Чаше всего встречаются смесь процедурной и ООП парадигим. Болле новым и более правильным трендом является использования смеси функциональной и ООП парадигм."
   ]
  },
  {
   "cell_type": "markdown",
   "metadata": {},
   "source": [
    "### Наследование"
   ]
  },
  {
   "cell_type": "markdown",
   "metadata": {},
   "source": [
    "Расмотрим нашу ситуация с классом Vector - он описывает двумерный вектор, но что если мы захотим работать с трехмерным вектором. Нам нужно снова повторять весь код? Не очень то хочется, да  если подумать по сути свой двухмерные и  трехмерные вектора очень похожи. Более того мы можем обощить их свойства до n-мерного вектора.\n",
    "Давайте для начала опишем n-мерный вектор."
   ]
  },
  {
   "cell_type": "code",
   "execution_count": 71,
   "metadata": {},
   "outputs": [],
   "source": [
    "class Vector:\n",
    "    def __init__(self, *arg):\n",
    "        self._vector = arg\n",
    "        self.size = len(arg)\n",
    "    \n",
    "    def __getitem__(self, key):\n",
    "        return self._vector[key]\n",
    "    \n",
    "    def __add__(self,vector):\n",
    "        \"\"\"\n",
    "        Это специальный метод перегружает оператор +\n",
    "        \"\"\"\n",
    "        return Vector(*[self[i] + vector[i] for i in range(vector.size)])\n",
    "    \n",
    "    def __repr__(self):\n",
    "        \"\"\"\n",
    "        Это метод создает текстовое опредставление класса\n",
    "        \"\"\"\n",
    "        return str(self._vector)\n",
    "    def module(self):\n",
    "        return sum([x**2 for x in self._vector])**0.5"
   ]
  },
  {
   "cell_type": "code",
   "execution_count": 52,
   "metadata": {},
   "outputs": [],
   "source": [
    "vector = Vector(1,2,3)"
   ]
  },
  {
   "cell_type": "code",
   "execution_count": 53,
   "metadata": {},
   "outputs": [
    {
     "name": "stdout",
     "output_type": "stream",
     "text": [
      "(1, 2, 3)\n"
     ]
    }
   ],
   "source": [
    "print(vector)"
   ]
  },
  {
   "cell_type": "code",
   "execution_count": 54,
   "metadata": {},
   "outputs": [
    {
     "data": {
      "text/plain": [
       "3"
      ]
     },
     "execution_count": 54,
     "metadata": {},
     "output_type": "execute_result"
    }
   ],
   "source": [
    "vector[2]"
   ]
  },
  {
   "cell_type": "code",
   "execution_count": 55,
   "metadata": {},
   "outputs": [
    {
     "name": "stdout",
     "output_type": "stream",
     "text": [
      "(0, 0, 0)\n"
     ]
    }
   ],
   "source": [
    "print(vector + Vector(-1,-2,-3))"
   ]
  },
  {
   "cell_type": "markdown",
   "metadata": {},
   "source": [
    "Мы получили многомерный вектор, однако в частный случях когда мы работаем с 2D и 3D векторами было бы удобно обращаться по именам координат x,y,z.\n",
    "\n",
    "Для того что бы описать эти частный случаи и не потерять возможности описанные в многомерном векторе мы унаследуем его функционал"
   ]
  },
  {
   "cell_type": "code",
   "execution_count": 72,
   "metadata": {},
   "outputs": [],
   "source": [
    "class Vector2D(Vector):\n",
    "    def __init__(self, x,y):\n",
    "        self.x = x\n",
    "        self.y = y\n",
    "        super().__init__(x,y)# Обращение к родительскому классу"
   ]
  },
  {
   "cell_type": "code",
   "execution_count": 78,
   "metadata": {},
   "outputs": [],
   "source": [
    "vec2d = Vector2D(3,4) "
   ]
  },
  {
   "cell_type": "code",
   "execution_count": 79,
   "metadata": {},
   "outputs": [
    {
     "name": "stdout",
     "output_type": "stream",
     "text": [
      "3\n"
     ]
    }
   ],
   "source": [
    "print(vec2d.x)"
   ]
  },
  {
   "cell_type": "code",
   "execution_count": 80,
   "metadata": {},
   "outputs": [
    {
     "name": "stdout",
     "output_type": "stream",
     "text": [
      "(2, 2)\n"
     ]
    }
   ],
   "source": [
    "print(vec2d + Vector2D(-1,-2))"
   ]
  },
  {
   "cell_type": "code",
   "execution_count": 81,
   "metadata": {},
   "outputs": [
    {
     "name": "stdout",
     "output_type": "stream",
     "text": [
      "5.0\n"
     ]
    }
   ],
   "source": [
    "print(vec2d.module())"
   ]
  },
  {
   "cell_type": "markdown",
   "metadata": {},
   "source": [
    "Обратите внимание в классе Vector2D не описаны не метод module и не перегружен оператор +, однако они работают поскольку унаследованые от его родителя.\n",
    "\n",
    "Классы наследники дополняют функционал класса родителя и если какая часть программы умеет работать с классом родителем то она и будет уметь работать с классом-наследником\n",
    "\n",
    "Подводя итог можно сказать, что наследование позволяет выделять общее поведение для ряда типов данных и описывать его только один раз в классе родителей"
   ]
  },
  {
   "cell_type": "markdown",
   "metadata": {},
   "source": [
    "### Инкапсуляция и полимофизм\n",
    "\n",
    "Инкапсуляция может тобозначать две вещи\n",
    "* Объединение данных методов работы с ними - наш класс вектор содержит не только компоненты вектора, но и функции характерные именно для векторов - покомпонентное сложение и вычисление модуля\n",
    "* Сокрытие внутренней реализации объекта - нам важно какой функционал предоставляет объект и наша программа не зависит от того как этот функционал реализован.\n",
    "Полиморфизм - говорит о возможности использовать подтипы не имея информации о типе и внутреней реализации\n",
    "Рассмотрит два примера реализации класса Vector:"
   ]
  },
  {
   "cell_type": "code",
   "execution_count": 102,
   "metadata": {},
   "outputs": [],
   "source": [
    "class Vector:\n",
    "    def module(self):\n",
    "        pass\n",
    "    \n",
    "class Vector1(Vector):\n",
    "    def __init__(self, *arg):\n",
    "        self._vector = arg\n",
    "        self.size = len(arg)\n",
    "    \n",
    "    def module(self):\n",
    "        return sum([x**2 for x in self._vector])**0.5"
   ]
  },
  {
   "cell_type": "code",
   "execution_count": 103,
   "metadata": {},
   "outputs": [],
   "source": [
    "import numpy as np\n",
    "\n",
    "class Vector2(Vector):\n",
    "    def __init__(self, *arg):\n",
    "        self._vector = np.asarray(arg)\n",
    "        self.size = len(arg)\n",
    "    \n",
    "    def module(self):\n",
    "        return np.linalg.norm(self._vector)"
   ]
  },
  {
   "cell_type": "code",
   "execution_count": 104,
   "metadata": {},
   "outputs": [
    {
     "data": {
      "text/plain": [
       "5.0"
      ]
     },
     "execution_count": 104,
     "metadata": {},
     "output_type": "execute_result"
    }
   ],
   "source": [
    "Vector1(3,4).module()"
   ]
  },
  {
   "cell_type": "code",
   "execution_count": 105,
   "metadata": {},
   "outputs": [
    {
     "data": {
      "text/plain": [
       "5.0"
      ]
     },
     "execution_count": 105,
     "metadata": {},
     "output_type": "execute_result"
    }
   ],
   "source": [
    "Vector2(3,4).module()"
   ]
  },
  {
   "cell_type": "markdown",
   "metadata": {},
   "source": [
    "Классы Vector1 и Vector2 отличаются внутреней реализацией, но внешнему коду важно только наличие метода module и не важно что именно он внутри делает.\n"
   ]
  }
 ],
 "metadata": {
  "kernelspec": {
   "display_name": "Python [default]",
   "language": "python",
   "name": "python3"
  },
  "language_info": {
   "codemirror_mode": {
    "name": "ipython",
    "version": 3
   },
   "file_extension": ".py",
   "mimetype": "text/x-python",
   "name": "python",
   "nbconvert_exporter": "python",
   "pygments_lexer": "ipython3",
   "version": "3.6.7"
  },
  "toc": {
   "base_numbering": 1,
   "nav_menu": {},
   "number_sections": false,
   "sideBar": false,
   "skip_h1_title": false,
   "title_cell": "Table of Contents",
   "title_sidebar": "Contents",
   "toc_cell": false,
   "toc_position": {},
   "toc_section_display": false,
   "toc_window_display": false
  }
 },
 "nbformat": 4,
 "nbformat_minor": 2
}
